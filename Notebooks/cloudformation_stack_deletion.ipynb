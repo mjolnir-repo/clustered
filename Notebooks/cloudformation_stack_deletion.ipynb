{
 "cells": [
  {
   "cell_type": "markdown",
   "metadata": {},
   "source": [
    "# Cloudformation Stack Deletion\n",
    "\n",
    "* This step is responsible to delete the cloudformation stack that was created as the first step of the process."
   ]
  },
  {
   "cell_type": "markdown",
   "metadata": {},
   "source": [
    "### Importing Required Libraries ::\n",
    "* __boto3__: Required to connect as operate AWS task\n",
    "* __botocore__: Required to handle the exceptions related to boto3 tasks\n",
    "* __json__: To convert python native dictionaries to string, to write in files\n",
    "* __pickle__: To store configuration dictionary which will be used in next notebooks\n",
    "* __os__: To do os related jobs like checking for file existance"
   ]
  },
  {
   "cell_type": "code",
   "execution_count": 1,
   "metadata": {},
   "outputs": [],
   "source": [
    "import boto3, botocore\n",
    "import json, pickle, os\n",
    "from botocore.exceptions import ClientError"
   ]
  },
  {
   "cell_type": "markdown",
   "metadata": {},
   "source": [
    "### Reading user defined configurations & Declaring other variables::\n",
    "* User is allowed to provide specific configurations using provided format of configuration file. If user does not provide any confguration or provides wrong configuration format, then default values will be used. Please check **README.MD** file for default values."
   ]
  },
  {
   "cell_type": "code",
   "execution_count": 2,
   "metadata": {},
   "outputs": [],
   "source": [
    "try:\n",
    "    with open(\"cluster_config.json\", \"r\") as config_file:\n",
    "        user_config = json.load(config_file)\n",
    "    user = user_config.get('UserName', \"root\")\n",
    "    region = user_config.get('Region', \"us-east-1\")\n",
    "    wrk_spc_dir = user_config['WorkspaceDirectory']\n",
    "    pickle_file = wrk_spc_dir + \"/SparkClusterOnAWSEC2_\" + user + \"_CurrentStatus.pkl\"\n",
    "    if os.path.exists(pickle_file):\n",
    "        with open(pickle_file, 'rb') as pickle_handle:\n",
    "            user_config = pickle.load(pickle_handle)\n",
    "        stack_id = user_config['StackId']\n",
    "    else:\n",
    "        print(\"Status file '\"+ pickle_file + \"' is not available, which is unexpected. Please start running from 'cloudformation_stack_creation.ipynb' file.\")\n",
    "        raise Exception\n",
    "except Exception as e:\n",
    "    print(\"Unexpected error while deleting Cloudformation Stack: \" + str(e))\n",
    "    exit()"
   ]
  },
  {
   "cell_type": "markdown",
   "metadata": {},
   "source": [
    "### Creating boto3 session, clients and resources::\n",
    "These resources will be used to connect and run different tasks on AWS."
   ]
  },
  {
   "cell_type": "code",
   "execution_count": 3,
   "metadata": {},
   "outputs": [],
   "source": [
    "try:\n",
    "    session = boto3.session.Session(region_name=region)\n",
    "    cf_client = session.client('cloudformation')\n",
    "except Exception as e:\n",
    "    print(\"Unexpected error while creating boto3 session, client and resources: \" + str(e))\n",
    "    exit()"
   ]
  },
  {
   "cell_type": "markdown",
   "metadata": {},
   "source": [
    "### Issuing deletion command to the Stack::\n",
    "* Deletion command is executed on the stack using delete_stack API of boto3 library."
   ]
  },
  {
   "cell_type": "code",
   "execution_count": 4,
   "metadata": {},
   "outputs": [
    {
     "name": "stdout",
     "output_type": "stream",
     "text": [
      "Deletion process initiated. It will take 3-4 minutes based on the network and stack size.\n"
     ]
    }
   ],
   "source": [
    "try:\n",
    "    cf_client.delete_stack(StackName=stack_id)\n",
    "    print(\"Deletion process initiated. It will take 3-4 minutes based on the network and stack size.\")\n",
    "except Exception as e:\n",
    "    print(\"Unexpected error while deleting Cloudformation Stack: \" + str(e))\n",
    "    exit()"
   ]
  }
 ],
 "metadata": {
  "kernelspec": {
   "display_name": "Python 3",
   "language": "python",
   "name": "python3"
  },
  "language_info": {
   "codemirror_mode": {
    "name": "ipython",
    "version": 3
   },
   "file_extension": ".py",
   "mimetype": "text/x-python",
   "name": "python",
   "nbconvert_exporter": "python",
   "pygments_lexer": "ipython3",
   "version": "3.8.1"
  }
 },
 "nbformat": 4,
 "nbformat_minor": 4
}
