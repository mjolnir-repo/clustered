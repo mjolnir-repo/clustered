{
 "cells": [
  {
   "cell_type": "markdown",
   "metadata": {},
   "source": [
    "# Automated Spark Cluster using AWS EC2 instances\n",
    "#### This project fucuses on launching a Spark Cluster consisting one Master node and multiple(as declared in config file) Slaves nodes. The utility has following features:\n",
    "1. Launch one EC2 instance from AWS Management Console. Download spark, configure necessary properties in the EC2 instance. Create one AMI from the EC2 and store it. (One time Activity)\n",
    "2. Create one network to host the cluster using VPC, Subnets, Route Table etc.\n",
    "3. Launch Master and Slave nodes using AWS EC2. These instances are launched using one AMI, which is cretaed in Step one.\n",
    "4. Configure the Nodes to create the cluster.\n",
    "5. Start the Spark service.\n",
    "6. Stop the Spark service.\n",
    "7. Terminate the Nodes\n",
    "8. Delete network related services.\n",
    "\n",
    "#### N.B.: Please note, in this version following features are not provided, those will come in future versions:\n",
    "* Add worker node to running cluster.\n",
    "* Whitelist IP in a running cluster.\n",
    "* Currently the AMI is predefined manually(although one time activity), In future releases, this step will be automated.\n",
    "* One python package version of the utility will be provided to integrate it with other applications.\n",
    "\n",
    "#### To support all these features total nine Notebooks are available. Each Notebook serves a specific purpose. These Notebooks are to executed in proper sequence to create the Cluster. The Notebooks are:\n",
    "1. cloudformation_stack_creation.ipynb\n",
    "2. master_node_creation.ipynb\n",
    "3. slave_nodes_creation.ipynb\n",
    "4. spark_cluster_configure.ipynb\n",
    "5. spark_cluster_start.ipynb\n",
    "6. spark_cluster_stop.ipynb\n",
    "7. slave_node_termination.ipynb\n",
    "8. master_node_termination.ipynb\n",
    "9. cloudformation_stack_deletion.ipynb\n",
    "\n",
    "To run this Utility, one configuration file must be provided. Some configurations are mandatory and some are optional. Mandatory configurations are provided in __Bold__. The utility expects the configuration file ('cluster_config.json') to be present in the code base directory itself.\n",
    "\n",
    "#### Following are the properties to be configured:\n",
    "* Region: AWS Region. Default value is __us-east-1__.\n",
    "* AZList: AWS Availability Zones. Default values is __[us-east-1a, us-east-1b]__. Please provide valid Availability Zone values if configuring explicitly.\n",
    "* __CidrBlock__: CIDR Block for the VPC to be launched. This is a __mandatory__ field. Please note, irrespective of the provided value, masking will be '__/22__'\n",
    "* __KeyPairPath__: Key pair file (.pem) path. This is also __mandatory__ field.\n",
    "* __KeyPairName__: Key pair file (.pem) name. Please __DO NOT__ provide the extension. __Only the name__ is required. This is also __mandatory__ field.\n",
    "* ProjectTag: Project name. Default value is '__SparkCluster__'.\n",
    "* IPWhitelist: List of IPs to be whitelisted.\n",
    "* UserName: Utility user name, to distinguise separate verisons of execution. Default value is '__root__'. Please note __only one cluster__ is allowed per user.\n",
    "* InstanceType: EC2 instance type for the nodes. Default value is '__t2.micro__'.\n",
    "* __WorkspaceDirectory__: Local directory that will be used as workspace by the uitlity durinf run time. This is a __mandatory__ field.\n",
    "* SlaveCount: Number of Slave nodes. Default value is __3__."
   ]
  },
  {
   "cell_type": "code",
   "execution_count": null,
   "metadata": {},
   "outputs": [],
   "source": []
  }
 ],
 "metadata": {
  "kernelspec": {
   "display_name": "Python 3",
   "language": "python",
   "name": "python3"
  },
  "language_info": {
   "codemirror_mode": {
    "name": "ipython",
    "version": 3
   },
   "file_extension": ".py",
   "mimetype": "text/x-python",
   "name": "python",
   "nbconvert_exporter": "python",
   "pygments_lexer": "ipython3",
   "version": "3.8.1"
  }
 },
 "nbformat": 4,
 "nbformat_minor": 4
}
