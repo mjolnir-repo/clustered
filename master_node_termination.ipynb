{
 "cells": [
  {
   "cell_type": "markdown",
   "metadata": {},
   "source": [
    "# Spark Cluster Master Node termination"
   ]
  },
  {
   "cell_type": "markdown",
   "metadata": {},
   "source": [
    "### Importing Required Libraries ::\n",
    "* __boto3__: Required to connect to AWS\n",
    "* __json__: To convert python native dictionaries to string, to write in files\n",
    "* __botocore__: Required to handle the exceptions related to boto3 tasks"
   ]
  },
  {
   "cell_type": "code",
   "execution_count": 1,
   "metadata": {},
   "outputs": [],
   "source": [
    "import boto3\n",
    "import json\n",
    "from botocore.exceptions import ClientError"
   ]
  },
  {
   "cell_type": "markdown",
   "metadata": {},
   "source": [
    "### Reading User defines properties::\n",
    "* User is allowed to provide specific configurations using provided format of configuration file. If user does not provide any confguration or provides wrong configuration format, then default values will be used. Please check **README.MD** file for default values."
   ]
  },
  {
   "cell_type": "code",
   "execution_count": 2,
   "metadata": {},
   "outputs": [],
   "source": [
    "try:\n",
    "    with open(\"cluster_config.json\", \"r\") as config_file:\n",
    "        user_config = json.load(config_file)\n",
    "\n",
    "    region = user_config.get('Region', \"us-east-1\")\n",
    "    user = user_config.get('UserName', \"root\")\n",
    "    project_tag = user_config.get('ProjectTag', \"SparkCluster\")\n",
    "    instance_termination_flag = 0\n",
    "except Exception as e:\n",
    "    print(\"Unexpected error while fetching available status: \" + str(e))\n",
    "    exit()"
   ]
  },
  {
   "cell_type": "markdown",
   "metadata": {},
   "source": [
    "### Creating boto3 session, clients and resources ::"
   ]
  },
  {
   "cell_type": "code",
   "execution_count": 3,
   "metadata": {},
   "outputs": [],
   "source": [
    "try:\n",
    "    session = boto3.session.Session(region_name=region)\n",
    "    ec2_client = session.client('ec2')\n",
    "    ec2_resource = session.resource('ec2')\n",
    "except ClientError as e:\n",
    "    print(\"Unexpected error while creating boto3 session, client and resources: \" + str(e))\n",
    "    exit()"
   ]
  },
  {
   "cell_type": "markdown",
   "metadata": {},
   "source": [
    "### Extract details of running Slave Nodes for current user ::\n",
    "* If there is any Slave Node running for current user, Master Node will not be terminated.\n",
    "* In that case please terminate all Slave Nodes using 'slave_nodes_termination.ipynb' first the re-run this Notebook."
   ]
  },
  {
   "cell_type": "code",
   "execution_count": 4,
   "metadata": {},
   "outputs": [
    {
     "name": "stdout",
     "output_type": "stream",
     "text": [
      "No slave node is available is running state for User('ccbp-dev-user-saumalya'). Starting to terminate master node.\n"
     ]
    }
   ],
   "source": [
    "try:\n",
    "    instances = ec2_resource.instances.filter(\n",
    "        Filters=[\n",
    "            {\n",
    "                'Name': 'instance-state-name',\n",
    "                'Values': ['running']\n",
    "            },\n",
    "            {\n",
    "                'Name': 'tag:Project',\n",
    "                'Values': [project_tag]\n",
    "            },\n",
    "            {\n",
    "                'Name': 'tag:User',\n",
    "                'Values': [user]\n",
    "            },\n",
    "            {\n",
    "                'Name': 'tag:NodeType',\n",
    "                'Values': ['Slave']\n",
    "            }\n",
    "        ]\n",
    "    )\n",
    "    if list(instances):\n",
    "        print(\"Some Slave Nodes are in running state for User('\" + user + \"'). Master Node can not be terminated while any Slave Node is in 'running' state. Running slave nodes are:\")\n",
    "        print(list(instances))\n",
    "        exit()\n",
    "    else:\n",
    "        print(\"No slave node is available is running state for User('\" + user + \"'). Starting to terminate master node.\")\n",
    "        instance_termination_flag = 1\n",
    "except ClientError as e:\n",
    "    print(\"Unexpected error while looking for already running Master node EC2 instance for user-'\" + user + \"': \" + str(e))\n",
    "    exit()"
   ]
  },
  {
   "cell_type": "markdown",
   "metadata": {},
   "source": [
    "### Extract details of running Master Node for current user ::\n",
    "* Extracted master node will be terminated. Any running process in the same node will be terminated automatically."
   ]
  },
  {
   "cell_type": "code",
   "execution_count": 5,
   "metadata": {},
   "outputs": [],
   "source": [
    "if instance_termination_flag:\n",
    "    try:\n",
    "        instances = ec2_resource.instances.filter(\n",
    "            Filters=[\n",
    "                {\n",
    "                    'Name': 'instance-state-name',\n",
    "                    'Values': ['running']\n",
    "                },\n",
    "                {\n",
    "                    'Name': 'tag:Project',\n",
    "                    'Values': [project_tag]\n",
    "                },\n",
    "                {\n",
    "                    'Name': 'tag:User',\n",
    "                    'Values': [user]\n",
    "                },\n",
    "                {\n",
    "                    'Name': 'tag:NodeType',\n",
    "                    'Values': ['Master']\n",
    "                }\n",
    "            ]\n",
    "        )\n",
    "    except ClientError as e:\n",
    "        print(\"Unexpected error while looking for already running Master node EC2 instance for user-'\" + user + \"': \" + str(e))\n",
    "        exit()"
   ]
  },
  {
   "cell_type": "markdown",
   "metadata": {},
   "source": [
    "### Terminating the EC2 for master node on AWS ::\n",
    "* __terminate__ API is used under EC2 resource to terminate the EC2 node, which is Master Node of our spark cluster."
   ]
  },
  {
   "cell_type": "code",
   "execution_count": 6,
   "metadata": {},
   "outputs": [
    {
     "name": "stdout",
     "output_type": "stream",
     "text": [
      "Master node(InstanceId-'i-0cda438648bad66f2') for user-'ccbp-dev-user-saumalya' is pushed to termination. It will be terminated within 2-3 mins.\n"
     ]
    }
   ],
   "source": [
    "if instance_termination_flag:\n",
    "    if list(instances):\n",
    "        try:\n",
    "            for instance in instances:\n",
    "                instance.terminate()\n",
    "                print(\"Master node(InstanceId-'\" + str(instance.id) + \"') for user-'\" + user + \"' is pushed to termination. It will be terminated within 2-3 mins.\")\n",
    "        except ClientError as e:\n",
    "            print(\"Unexpected error while creating Spark Cluster Master node EC2 instance for user-'\" + user + \"': \" + str(e))\n",
    "            exit()\n",
    "    else:\n",
    "        print(\"There is no running master node for user-'\" + user + \"'.\")"
   ]
  },
  {
   "cell_type": "code",
   "execution_count": null,
   "metadata": {},
   "outputs": [],
   "source": []
  }
 ],
 "metadata": {
  "kernelspec": {
   "display_name": "Python 3",
   "language": "python",
   "name": "python3"
  },
  "language_info": {
   "codemirror_mode": {
    "name": "ipython",
    "version": 3
   },
   "file_extension": ".py",
   "mimetype": "text/x-python",
   "name": "python",
   "nbconvert_exporter": "python",
   "pygments_lexer": "ipython3",
   "version": "3.8.1"
  }
 },
 "nbformat": 4,
 "nbformat_minor": 4
}
