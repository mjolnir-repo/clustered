{
 "cells": [
  {
   "cell_type": "markdown",
   "metadata": {},
   "source": [
    "# Spark Cluster Slave Nodes termination"
   ]
  },
  {
   "cell_type": "markdown",
   "metadata": {},
   "source": [
    "### Importing Required Libraries ::\n",
    "* __boto3__: Required to connect to AWS\n",
    "* __json__: To convert python native dictionaries to string, to write in files\n",
    "* __botocore__: Required to handle the exceptions related to boto3 tasks"
   ]
  },
  {
   "cell_type": "code",
   "execution_count": 1,
   "metadata": {},
   "outputs": [],
   "source": [
    "import boto3\n",
    "import json\n",
    "from botocore.exceptions import ClientError"
   ]
  },
  {
   "cell_type": "markdown",
   "metadata": {},
   "source": [
    "### Reading User defines properties::\n",
    "* User is allowed to provide specific configurations using provided format of configuration file. If user does not provide any confguration or provides wrong configuration format, then default values will be used. Please check **README.MD** file for default values."
   ]
  },
  {
   "cell_type": "code",
   "execution_count": 2,
   "metadata": {},
   "outputs": [],
   "source": [
    "try:\n",
    "    with open(\"cluster_config.json\", \"r\") as config_file:\n",
    "        user_config = json.load(config_file)\n",
    "\n",
    "    region = user_config.get('Region', \"us-east-1\")\n",
    "    user = user_config.get('UserName', \"root\")\n",
    "    project_tag = user_config.get('ProjectTag', \"SparkCluster\")\n",
    "except Exception as e:\n",
    "    print(\"Unexpected error while fetching available status: \" + str(e))\n",
    "    exit()"
   ]
  },
  {
   "cell_type": "markdown",
   "metadata": {},
   "source": [
    "### Creating boto3 session, clients and resources ::"
   ]
  },
  {
   "cell_type": "code",
   "execution_count": 3,
   "metadata": {},
   "outputs": [],
   "source": [
    "try:\n",
    "    session = boto3.session.Session(region_name=region)\n",
    "    ec2_client = session.client('ec2')\n",
    "    ec2_resource = session.resource('ec2')\n",
    "except ClientError as e:\n",
    "    print(\"Unexpected error while creating boto3 session, client and resources: \" + str(e))\n",
    "    exit()"
   ]
  },
  {
   "cell_type": "markdown",
   "metadata": {},
   "source": [
    "### Extract details of running Slave Nodes for current user ::\n",
    "* Extracted slave nodes will be terminated one by one.\n",
    "* If there are any running processes, those will be terminated automatically."
   ]
  },
  {
   "cell_type": "code",
   "execution_count": 4,
   "metadata": {},
   "outputs": [],
   "source": [
    "try:\n",
    "    instances = ec2_resource.instances.filter(\n",
    "        Filters=[\n",
    "            {\n",
    "                'Name': 'instance-state-name',\n",
    "                'Values': ['running']\n",
    "            },\n",
    "            {\n",
    "                'Name': 'tag:Project',\n",
    "                'Values': [project_tag]\n",
    "            },\n",
    "            {\n",
    "                'Name': 'tag:User',\n",
    "                'Values': [user]\n",
    "            },\n",
    "            {\n",
    "                'Name': 'tag:NodeType',\n",
    "                'Values': ['Slave']\n",
    "            }\n",
    "        ]\n",
    "    )\n",
    "except ClientError as e:\n",
    "    print(\"Unexpected error while looking for already running Master node EC2 instance for user-'\" + user + \"': \" + str(e))\n",
    "    exit()"
   ]
  },
  {
   "cell_type": "markdown",
   "metadata": {},
   "source": [
    "### Terminating the EC2 for master node on AWS ::\n",
    "* __terminate__ API is used under EC2 resource to terminate the extracted EC2 servers(Slave Nodes of out Spark Cluster)."
   ]
  },
  {
   "cell_type": "code",
   "execution_count": 5,
   "metadata": {},
   "outputs": [
    {
     "name": "stdout",
     "output_type": "stream",
     "text": [
      "Slave node Instance('i-0f7ebf9ec6108e5c4') for User('ccbp-dev-user-saumalya') is pushed to termination. It will be terminated within 2-3 mins.\n",
      "Slave node Instance('i-0a29289898713fb3d') for User('ccbp-dev-user-saumalya') is pushed to termination. It will be terminated within 2-3 mins.\n",
      "Slave node Instance('i-073c8767a836eb1b0') for User('ccbp-dev-user-saumalya') is pushed to termination. It will be terminated within 2-3 mins.\n"
     ]
    }
   ],
   "source": [
    "if list(instances):\n",
    "    try:\n",
    "        for instance in instances:\n",
    "            instance.terminate()\n",
    "            print(\"Slave node Instance('\" + str(instance.id) + \"') for User('\" + user + \"') is pushed to termination. It will be terminated within 2-3 mins.\")\n",
    "            \n",
    "    except ClientError as e:\n",
    "        print(\"Unexpected error while trying to terminate the Slave node EC2 servers for User('\" + user + \"'): \" + str(e))\n",
    "        exit()\n",
    "else:\n",
    "    print(\"There are no running slave nodes for user-'\" + user + \"'.\")"
   ]
  },
  {
   "cell_type": "code",
   "execution_count": null,
   "metadata": {},
   "outputs": [],
   "source": []
  }
 ],
 "metadata": {
  "kernelspec": {
   "display_name": "Python 3",
   "language": "python",
   "name": "python3"
  },
  "language_info": {
   "codemirror_mode": {
    "name": "ipython",
    "version": 3
   },
   "file_extension": ".py",
   "mimetype": "text/x-python",
   "name": "python",
   "nbconvert_exporter": "python",
   "pygments_lexer": "ipython3",
   "version": "3.8.1"
  }
 },
 "nbformat": 4,
 "nbformat_minor": 4
}
